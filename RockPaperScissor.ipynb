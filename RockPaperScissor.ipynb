{
 "cells": [
  {
   "cell_type": "code",
   "execution_count": 16,
   "id": "7eee267b",
   "metadata": {},
   "outputs": [
    {
     "name": "stdout",
     "output_type": "stream",
     "text": [
      "Enter a choice (rock, paper, scissor): scissor\n",
      "\n",
      "You chose scissor, Computer chose paper.\n",
      "\n",
      "Scissor cuts paper! You win!\n"
     ]
    }
   ],
   "source": [
    "import random\n",
    "user_action = input(\"Enter a choice (rock, paper, scissor): \")\n",
    "possible_actions = [\"rock\", \"paper\", \"scissor\"]\n",
    "computer_action =  random.choice(possible_actions)\n",
    "\n",
    "print(\"\\nYou chose {}, Computer chose {}.\\n\".format(user_action,computer_action))\n",
    "\n",
    "if user_action == computer_action:\n",
    "    print(\"Both players selected {}. It's a tie!\".format(user_action))\n",
    "    \n",
    "elif user_action == \"rock\":\n",
    "    if computer_action == \"scissor\":\n",
    "        print(\"Rock smashes scissor! You win!\")\n",
    "    else:\n",
    "        print(\"Paper covers rock! You lose.\")\n",
    "        \n",
    "elif user_action == \"paper\":\n",
    "    if computer_action == \"rock\":\n",
    "        print(\"Paper covers rock! You win!\")\n",
    "    else:\n",
    "        print(\"Scissor cuts paper! You lose.\")\n",
    "        \n",
    "elif user_action == \"scissor\":\n",
    "    if computer_action == \"paper\":\n",
    "        print(\"Scissor cuts paper! You win!\")\n",
    "    else:\n",
    "        print(\"Rock smashes scissor! You lose.\")"
   ]
  },
  {
   "cell_type": "code",
   "execution_count": null,
   "id": "f215ecad",
   "metadata": {},
   "outputs": [],
   "source": []
  }
 ],
 "metadata": {
  "kernelspec": {
   "display_name": "Python 3",
   "language": "python",
   "name": "python3"
  },
  "language_info": {
   "codemirror_mode": {
    "name": "ipython",
    "version": 3
   },
   "file_extension": ".py",
   "mimetype": "text/x-python",
   "name": "python",
   "nbconvert_exporter": "python",
   "pygments_lexer": "ipython3",
   "version": "3.8.10"
  }
 },
 "nbformat": 4,
 "nbformat_minor": 5
}
